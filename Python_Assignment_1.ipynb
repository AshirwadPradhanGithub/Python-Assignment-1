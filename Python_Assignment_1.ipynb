{
  "nbformat": 4,
  "nbformat_minor": 0,
  "metadata": {
    "colab": {
      "name": "Python Assignment 1.ipynb",
      "provenance": [],
      "collapsed_sections": []
    },
    "kernelspec": {
      "name": "python3",
      "display_name": "Python 3"
    }
  },
  "cells": [
    {
      "cell_type": "markdown",
      "metadata": {
        "id": "ahu0oTUCVkGm",
        "colab_type": "text"
      },
      "source": [
        "# **Python Assignment 1**\n",
        "_________________________"
      ]
    },
    {
      "cell_type": "markdown",
      "metadata": {
        "id": "McqKHe7sWBVR",
        "colab_type": "text"
      },
      "source": [
        "*Name- Ashirwad Pradhan*"
      ]
    },
    {
      "cell_type": "markdown",
      "metadata": {
        "id": "1ugwcqCrUNVC",
        "colab_type": "text"
      },
      "source": [
        "### 1. Write a program which will find all such numbers which are divisible by 7 but are not a multiple of 5, between 2000 and 3200 (both included). The numbers obtained should be printed in a comma-separated sequence on a single line."
      ]
    },
    {
      "cell_type": "code",
      "metadata": {
        "id": "k5Msr_ZBUI_1",
        "colab_type": "code",
        "colab": {
          "base_uri": "https://localhost:8080/",
          "height": 54
        },
        "outputId": "8cffcc4b-9031-4039-a167-ae7e31963af7"
      },
      "source": [
        "\n",
        "for i in range(2000-1, 3200+1):\n",
        "    if (i % 7) == 0  and (i % 5) != 0: \n",
        "        print(i, end = ', ')\n",
        "            "
      ],
      "execution_count": null,
      "outputs": [
        {
          "output_type": "stream",
          "text": [
            "2002, 2009, 2016, 2023, 2037, 2044, 2051, 2058, 2072, 2079, 2086, 2093, 2107, 2114, 2121, 2128, 2142, 2149, 2156, 2163, 2177, 2184, 2191, 2198, 2212, 2219, 2226, 2233, 2247, 2254, 2261, 2268, 2282, 2289, 2296, 2303, 2317, 2324, 2331, 2338, 2352, 2359, 2366, 2373, 2387, 2394, 2401, 2408, 2422, 2429, 2436, 2443, 2457, 2464, 2471, 2478, 2492, 2499, 2506, 2513, 2527, 2534, 2541, 2548, 2562, 2569, 2576, 2583, 2597, 2604, 2611, 2618, 2632, 2639, 2646, 2653, 2667, 2674, 2681, 2688, 2702, 2709, 2716, 2723, 2737, 2744, 2751, 2758, 2772, 2779, 2786, 2793, 2807, 2814, 2821, 2828, 2842, 2849, 2856, 2863, 2877, 2884, 2891, 2898, 2912, 2919, 2926, 2933, 2947, 2954, 2961, 2968, 2982, 2989, 2996, 3003, 3017, 3024, 3031, 3038, 3052, 3059, 3066, 3073, 3087, 3094, 3101, 3108, 3122, 3129, 3136, 3143, 3157, 3164, 3171, 3178, 3192, 3199, "
          ],
          "name": "stdout"
        }
      ]
    },
    {
      "cell_type": "code",
      "metadata": {
        "id": "JLfGw8SuUa_G",
        "colab_type": "code",
        "colab": {}
      },
      "source": [
        ""
      ],
      "execution_count": null,
      "outputs": []
    },
    {
      "cell_type": "markdown",
      "metadata": {
        "id": "AHsp8pqwUufn",
        "colab_type": "text"
      },
      "source": [
        "### 2. Write a Python program to accept the user's first and last name and then getting them printed in the the reverse order with a space between first name and last name."
      ]
    },
    {
      "cell_type": "markdown",
      "metadata": {
        "id": "gxff-bhxUtrv",
        "colab_type": "text"
      },
      "source": [
        ""
      ]
    },
    {
      "cell_type": "code",
      "metadata": {
        "id": "a8iHfiQkU1P2",
        "colab_type": "code",
        "colab": {
          "base_uri": "https://localhost:8080/",
          "height": 69
        },
        "outputId": "ac0cad16-f649-4637-9a1b-3e9791777aed"
      },
      "source": [
        "fname = input(\"Enter first name:  \")\n",
        "lname = input(\"Enter last name:  \")\n",
        "space = ' '\n",
        "p = list(fname)\n",
        "q = list(lname)\n",
        "p.reverse()\n",
        "q.reverse()\n",
        "''.join(p) + ''.join(space) + ''.join(q)\n"
      ],
      "execution_count": null,
      "outputs": [
        {
          "output_type": "stream",
          "text": [
            "Enter first name:  Steve\n",
            "Enter last name:  Jobs\n"
          ],
          "name": "stdout"
        },
        {
          "output_type": "execute_result",
          "data": {
            "application/vnd.google.colaboratory.intrinsic": {
              "type": "string"
            },
            "text/plain": [
              "'evetS sboJ'"
            ]
          },
          "metadata": {
            "tags": []
          },
          "execution_count": 2
        }
      ]
    },
    {
      "cell_type": "code",
      "metadata": {
        "id": "w61buPraU4jy",
        "colab_type": "code",
        "colab": {}
      },
      "source": [
        ""
      ],
      "execution_count": null,
      "outputs": []
    },
    {
      "cell_type": "markdown",
      "metadata": {
        "id": "S0ufHx-cVJKd",
        "colab_type": "text"
      },
      "source": [
        "### 3. Write a Python program to find the volume of a sphere with diameter 12 cm. Formula: V=4/3 * π * (r^3)"
      ]
    },
    {
      "cell_type": "code",
      "metadata": {
        "id": "WedlGbWgVKMM",
        "colab_type": "code",
        "colab": {
          "base_uri": "https://localhost:8080/",
          "height": 34
        },
        "outputId": "85ba81b9-a8bf-46aa-818c-bed4cefa43c4"
      },
      "source": [
        "import math\n",
        "d = 12\n",
        "r = d/2\n",
        "V = (4 * math.pi * (r**3)) / 3\n",
        "V"
      ],
      "execution_count": null,
      "outputs": [
        {
          "output_type": "execute_result",
          "data": {
            "text/plain": [
              "904.7786842338604"
            ]
          },
          "metadata": {
            "tags": []
          },
          "execution_count": 3
        }
      ]
    },
    {
      "cell_type": "code",
      "metadata": {
        "id": "9CWWaTZwVQ3W",
        "colab_type": "code",
        "colab": {}
      },
      "source": [
        ""
      ],
      "execution_count": null,
      "outputs": []
    }
  ]
}