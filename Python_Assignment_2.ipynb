{
  "nbformat": 4,
  "nbformat_minor": 0,
  "metadata": {
    "colab": {
      "name": "Python Assignment 2.ipynb",
      "provenance": [],
      "collapsed_sections": []
    },
    "kernelspec": {
      "name": "python3",
      "display_name": "Python 3"
    }
  },
  "cells": [
    {
      "cell_type": "code",
      "metadata": {
        "id": "_2yzlazU0-X9",
        "colab_type": "code",
        "colab": {}
      },
      "source": [
        ""
      ],
      "execution_count": null,
      "outputs": []
    },
    {
      "cell_type": "markdown",
      "metadata": {
        "id": "vvawpQPe1DWZ",
        "colab_type": "text"
      },
      "source": [
        "###  1. Create the below pattern using nested for loop in Python.\n",
        "\n",
        "\n",
        "\n",
        "\n",
        "\n",
        "### *\n",
        "### *  *\n",
        "### *  *  *\n",
        "### *  *  *  *\n",
        "### *  *  *  *  *\n",
        "### *  *  *  *\n",
        "### *  *  *\n",
        "### *  *\n",
        "### *\n"
      ]
    },
    {
      "cell_type": "code",
      "metadata": {
        "id": "EH5rxuKT1KSM",
        "colab_type": "code",
        "colab": {
          "base_uri": "https://localhost:8080/",
          "height": 185
        },
        "outputId": "01b77a93-2d5b-4833-eab4-441851165d16"
      },
      "source": [
        "for y in range(6):\n",
        "    for x in range(y):\n",
        "        print(\" * \", end = '')\n",
        "    print()\n",
        "    \n",
        "\n",
        "for u in range(4, 0, -1):\n",
        "    for v in range(u):\n",
        "        print(\" * \", end = '')\n",
        "    print()\n"
      ],
      "execution_count": null,
      "outputs": [
        {
          "output_type": "stream",
          "text": [
            "\n",
            " * \n",
            " *  * \n",
            " *  *  * \n",
            " *  *  *  * \n",
            " *  *  *  *  * \n",
            " *  *  *  * \n",
            " *  *  * \n",
            " *  * \n",
            " * \n"
          ],
          "name": "stdout"
        }
      ]
    },
    {
      "cell_type": "code",
      "metadata": {
        "id": "MrC33ibc1PyF",
        "colab_type": "code",
        "colab": {}
      },
      "source": [
        ""
      ],
      "execution_count": null,
      "outputs": []
    },
    {
      "cell_type": "markdown",
      "metadata": {
        "id": "wnPygtEC1XQt",
        "colab_type": "text"
      },
      "source": [
        "### 2. Write a Python program to reverse a word after accepting the input from the user.\n",
        "\n",
        "**Sample Output:**  \n",
        "Input word: ineuron  \n",
        "Output: norueni"
      ]
    },
    {
      "cell_type": "code",
      "metadata": {
        "id": "bvu8_4V91eM2",
        "colab_type": "code",
        "colab": {
          "base_uri": "https://localhost:8080/",
          "height": 50
        },
        "outputId": "09aa37b5-b971-46ac-a5e6-dc7956f46fb4"
      },
      "source": [
        "name = input(\"Enter your name please:  \")\n",
        "\n",
        "n = list(name)\n",
        "n.reverse()\n",
        "\n",
        "m = ''.join(str(e) for e in n)\n",
        "\n",
        "print(m)"
      ],
      "execution_count": null,
      "outputs": [
        {
          "output_type": "stream",
          "text": [
            "Enter your name please:  ineuron\n",
            "norueni\n"
          ],
          "name": "stdout"
        }
      ]
    },
    {
      "cell_type": "code",
      "metadata": {
        "id": "3YyHq3wF1rGF",
        "colab_type": "code",
        "colab": {}
      },
      "source": [
        ""
      ],
      "execution_count": null,
      "outputs": []
    }
  ]
}